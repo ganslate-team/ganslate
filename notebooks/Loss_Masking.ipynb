{
 "cells": [
  {
   "cell_type": "code",
   "execution_count": 11,
   "metadata": {},
   "outputs": [],
   "source": [
    "import sys\n",
    "import logging\n",
    "logger = logging.getLogger(__name__)\n",
    "\n",
    "# --------- midaGAN imports ----------\n",
    "try:\n",
    "    import midaGAN\n",
    "except ImportError:\n",
    "    logger.warning(\"midaGAN not installed as a package, importing it from the local directory.\")\n",
    "    sys.path.append('../')\n",
    "    import midaGAN\n",
    "\n",
    "from midaGAN.trainer import Trainer\n",
    "from midaGAN.conf.builders import build_training_conf\n",
    "from midaGAN.conf import init_config\n",
    "from midaGAN.data import build_dataset, build_loader\n",
    "from midaGAN.nn.gans import build_gan\n",
    "from midaGAN.utils import communication, environment\n",
    "environment.set_seed(1)"
   ]
  },
  {
   "cell_type": "code",
   "execution_count": 12,
   "metadata": {},
   "outputs": [],
   "source": [
    "conf = init_config(\"../projects/nki_cervix_cbct_to_ct/experiments/ex1.yaml\")"
   ]
  },
  {
   "cell_type": "code",
   "execution_count": 13,
   "metadata": {},
   "outputs": [
    {
     "name": "stdout",
     "output_type": "stream",
     "text": [
      "batch_size: 1\n",
      "project_dir: ../projects/nki_cervix_cbct_to_ct\n",
      "use_cuda: true\n",
      "mixed_precision: false\n",
      "opt_level: O1\n",
      "dataset:\n",
      "  name: CBCTtoCTDataset\n",
      "  root: /repos/Maastro/nki_cervix\n",
      "  shuffle: true\n",
      "  num_workers: 1\n",
      "  patch_size:\n",
      "  - 16\n",
      "  - 128\n",
      "  - 128\n",
      "  hounsfield_units_range:\n",
      "  - -1000\n",
      "  - 2000\n",
      "  focal_region_proportion: 0.2\n",
      "  enable_masking: true\n",
      "  enable_bounding: true\n",
      "  ct_mask_threshold: -300\n",
      "  cbct_mask_threshold: -700\n",
      "gan:\n",
      "  is_train: true\n",
      "  name: PiCycleGAN\n",
      "  loss_type: lsgan\n",
      "  norm_type: instance\n",
      "  weight_init_type: normal\n",
      "  weight_init_gain: 0.02\n",
      "  pool_size: 50\n",
      "generator:\n",
      "  name: Vnet3D\n",
      "  in_channels: 1\n",
      "  use_memory_saving: false\n",
      "  use_inverse: true\n",
      "  first_layer_channels: 16\n",
      "  down_blocks:\n",
      "  - 2\n",
      "  - 2\n",
      "  - 3\n",
      "  up_blocks:\n",
      "  - 3\n",
      "  - 3\n",
      "  - 3\n",
      "  is_separable: false\n",
      "n_iters: 200000\n",
      "n_iters_decay: 0\n",
      "discriminator:\n",
      "  name: PatchGAN3D\n",
      "  in_channels: 1\n",
      "  ndf: 64\n",
      "  n_layers: 2\n",
      "optimizer:\n",
      "  beta1: 0.5\n",
      "  lr_D: 0.0002\n",
      "  lr_G: 0.0004\n",
      "  lambda_A: 25.0\n",
      "  lambda_B: 25.0\n",
      "  lambda_identity: 0.0\n",
      "  lambda_inverse: 0.0\n",
      "  proportion_ssim: 0.84\n",
      "  ssim_type: SSIM\n",
      "  loss_mask:\n",
      "    masking_value: -1.0\n",
      "    operator: eq\n",
      "logging:\n",
      "  checkpoint_dir: ../checkpoints/cbct_ex2/\n",
      "  log_freq: 5\n",
      "  checkpoint_freq: 10000\n",
      "  tensorboard: false\n",
      "  wandb:\n",
      "    project: NKI_CBCT_CT\n",
      "    entity: null\n",
      "load_checkpoint: null\n",
      "seed: null\n",
      "\n"
     ]
    }
   ],
   "source": [
    "print(conf.pretty())"
   ]
  },
  {
   "cell_type": "code",
   "execution_count": 14,
   "metadata": {},
   "outputs": [],
   "source": [
    "conf.dataset.num_workers = 0\n",
    "conf.dataset.patch_size = (32, 32, 32)\n",
    "dataset = build_dataset(conf)\n",
    "model = build_gan(conf)"
   ]
  },
  {
   "cell_type": "code",
   "execution_count": 15,
   "metadata": {},
   "outputs": [],
   "source": [
    "import torch\n",
    "from midaGAN.utils import sitk_utils\n",
    "from midaGAN.data.utils.normalization import min_max_normalize, min_max_denormalize\n",
    "from midaGAN.data.utils.register_truncate import truncate_CT_to_scope_of_CBCT\n",
    "from midaGAN.data.utils.fov_truncate import truncate_CBCT_based_on_fov\n",
    "from midaGAN.data.utils.body_mask import apply_body_mask_and_bound, get_body_mask_and_bound\n",
    "from midaGAN.data.utils import volume_invalid_check_and_replace\n",
    "from midaGAN.data.utils.stochastic_focal_patching import StochasticFocalPatchSampler\n",
    "from viz import * \n",
    "\n",
    "def get_data(patch_size):\n",
    "    path_CBCT = \"/repos/Maastro/nki_cervix/21713759/CBCT/X01.nrrd\"\n",
    "    path_CT = \"/repos/Maastro/nki_cervix/21713759/CT/0/CT.nrrd\"\n",
    "    \n",
    "    \n",
    "\n",
    "    # load nrrd as SimpleITK objects\n",
    "    CBCT = sitk_utils.load(path_CBCT)\n",
    "    CT = sitk_utils.load(path_CT)\n",
    "\n",
    "    if CBCT is None or CT is None:\n",
    "        raise RuntimeError(\"Suitable replacement volume could not be found!\")\n",
    "\n",
    "    # Subtract 1024 from CBCT to map values from grayscale to HU approx\n",
    "    CBCT = CBCT - 1024\n",
    "\n",
    "    slice_filter = sitk.SliceImageFilter()\n",
    "    slice_filter.SetStart(patch_size)\n",
    "    slice_filter.SetStop([val * 2 for val in patch_size])\n",
    "\n",
    "    CBCT = slice_filter.Execute(CBCT)\n",
    "    CT = slice_filter.Execute(CT)\n",
    "\n",
    "\n",
    "    show_mid_slices(CT)\n",
    "    show_mid_slices(CBCT)\n",
    "\n",
    "    # Mask and bound is applied on numpy arrays!\n",
    "    CBCT = sitk_utils.get_npy(CBCT)\n",
    "    CT = sitk_utils.get_npy(CT)\n",
    "\n",
    "    # Convert array to torch tensors\n",
    "    CBCT = torch.tensor(CBCT)\n",
    "    CT = torch.tensor(CT)\n",
    "\n",
    "    # Extract patches\n",
    "    CBCT = CBCT[0:patch_size[0], 0:patch_size[1], 0:patch_size[2]]\n",
    "    CT = CT[0:patch_size[0], 0:patch_size[1], 0:patch_size[2]]\n",
    "\n",
    "    # Limits the lowest and highest HU unit\n",
    "    CBCT = torch.clamp(CBCT, -1024, 2048)\n",
    "    CT = torch.clamp(CT, -1024, 2048)\n",
    "\n",
    "    # Normalize Hounsfield units to range [-1,1]\n",
    "    CBCT = min_max_normalize(CBCT, -1024, 2048)\n",
    "    CT = min_max_normalize(CT, -1024, 2048)\n",
    "\n",
    "    # Add channel dimension (1 = grayscale)\n",
    "    CBCT = CBCT.unsqueeze(0)\n",
    "    CT = CT.unsqueeze(0)\n",
    "\n",
    "    return {'A': CBCT, 'B': CT}"
   ]
  },
  {
   "cell_type": "code",
   "execution_count": 16,
   "metadata": {},
   "outputs": [
    {
     "name": "stdout",
     "output_type": "stream",
     "text": [
      "A:  tensor(-1.) tensor(-1.)\n",
      "B:  tensor(-1.) tensor(-1.)\n"
     ]
    }
   ],
   "source": [
    "# Dummy data to test loss values\n",
    "A = torch.full((1, 32, 32, 32), -1.0)\n",
    "B = torch.full((1, 32, 32, 32), -1.0)\n",
    "\n",
    "# A[0, 0:16, 0:16, 0:16] = 0\n",
    "\n",
    "data = {\n",
    "    'A': A,\n",
    "    'B': B\n",
    "}\n",
    "# Operating on raw dataset with (CDHW), need to add N dimension\n",
    "\n",
    "for k, v in data.items():\n",
    "    data[k] = v.unsqueeze(dim=0)\n",
    "print(\"A: \", data['A'].min(), data['A'].max())\n",
    "print(\"B: \", data['B'].min(), data['B'].max())"
   ]
  },
  {
   "cell_type": "code",
   "execution_count": 8,
   "metadata": {},
   "outputs": [
    {
     "name": "stdout",
     "output_type": "stream",
     "text": [
      "A:  tensor(-1.) tensor(-0.8939)\n",
      "B:  tensor(-1.) tensor(-0.9674)\n"
     ]
    },
    {
     "data": {
      "image/png": "[encoded data removed]",
      "text/plain": [
       "<Figure size 100.8x67.2 with 1 Axes>"
      ]
     },
     "metadata": {
      "needs_background": "light"
     },
     "output_type": "display_data"
    },
    {
     "data": {
      "image/png": "[encoded data removed]",
      "text/plain": [
       "<Figure size 100.8x67.2 with 1 Axes>"
      ]
     },
     "metadata": {
      "needs_background": "light"
     },
     "output_type": "display_data"
    }
   ],
   "source": [
    "data = get_data(conf.dataset.patch_size)\n",
    "print(\"A: \", data['A'].min(), data['A'].max())\n",
    "print(\"B: \", data['B'].min(), data['B'].max())\n",
    "\n",
    "# Operating on raw dataset with (CDHW), need to add N dimension\n",
    "\n",
    "for k, v in data.items():\n",
    "    data[k] = v.unsqueeze(dim=0)"
   ]
  },
  {
   "cell_type": "code",
   "execution_count": 17,
   "metadata": {},
   "outputs": [
    {
     "name": "stdout",
     "output_type": "stream",
     "text": [
      "{'D_A': tensor(1., device='cuda:0', grad_fn=<AddBackward0>), 'G_A': tensor(1., device='cuda:0', grad_fn=<MseLossBackward>), 'cycle_A': tensor(0., device='cuda:0', grad_fn=<MulBackward0>), 'idt_A': None, 'inv_A': None, 'D_B': tensor(1., device='cuda:0', grad_fn=<AddBackward0>), 'G_B': tensor(1., device='cuda:0', grad_fn=<MseLossBackward>), 'cycle_B': tensor(0., device='cuda:0', grad_fn=<MulBackward0>), 'idt_B': None, 'inv_B': None}\n"
     ]
    }
   ],
   "source": [
    "# Uncomment line below to test masking\n",
    "# model.setup_masking(None)\n",
    "model.setup_masking(conf.gan.optimizer.loss_mask)\n",
    "\n",
    "model.set_input(data)\n",
    "model.forward()\n",
    "model.mask_current_visuals()\n",
    "        \n",
    "discriminators = [ model.networks['D_A'], model.networks['D_B'] ]\n",
    "# ------------------------ G (A and B) ----------------------------------------------------\n",
    "model.set_requires_grad(discriminators, False)   # Ds require no gradients when optimizing Gs\n",
    "model.optimizers['G'].zero_grad()                # set G's gradients to zero\n",
    "model.backward_G(loss_id=0)                      # calculate gradients for G\n",
    "# ------------------------ D_A and D_B ----------------------------------------------------\n",
    "model.set_requires_grad(discriminators, True)\n",
    "model.optimizers['D'].zero_grad()                #set D_A and D_B's gradients to zero\n",
    "model.backward_D('D_A', loss_id=1)               # calculate gradients for D_A\n",
    "model.backward_D('D_B', loss_id=2)               # calculate graidents for D_B\n",
    "\n",
    "learning_rates, losses, visuals = model.get_loggable_data()\n",
    "print(losses)"
   ]
  },
  {
   "cell_type": "markdown",
   "metadata": {},
   "source": [
    "{'D_A': tensor(5.4338, device='cuda:0', grad_fn=<AddBackward0>), 'G_A': tensor(3.0061, device='cuda:0', grad_fn=<MseLossBackward>), 'cycle_A': tensor(12.3382, device='cuda:0', grad_fn=<MulBackward0>), 'idt_A': None, 'inv_A': None, 'D_B': tensor(5.7199, device='cuda:0', grad_fn=<AddBackward0>), 'G_B': tensor(2.6451, device='cuda:0', grad_fn=<MseLossBackward>), 'cycle_B': tensor(12.4225, device='cuda:0', grad_fn=<MulBackward0>), 'idt_B': None, 'inv_B': None}"
   ]
  },
  {
   "cell_type": "code",
   "execution_count": null,
   "metadata": {},
   "outputs": [],
   "source": []
  }
 ],
 "metadata": {
  "kernelspec": {
   "display_name": "Python 3",
   "language": "python",
   "name": "python3"
  },
  "language_info": {
   "codemirror_mode": {
    "name": "ipython",
    "version": 3
   },
   "file_extension": ".py",
   "mimetype": "text/x-python",
   "name": "python",
   "nbconvert_exporter": "python",
   "pygments_lexer": "ipython3",
   "version": "3.8.5"
  }
 },
 "nbformat": 4,
 "nbformat_minor": 4
}
