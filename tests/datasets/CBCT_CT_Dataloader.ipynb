{
 "cells": [
  {
   "cell_type": "code",
   "execution_count": 3,
   "metadata": {},
   "outputs": [],
   "source": [
    "import sys\n",
    "import logging\n",
    "logger = logging.getLogger(__name__)\n",
    "\n",
    "# --------- midaGAN imports ----------\n",
    "try:\n",
    "    import midaGAN\n",
    "except ImportError:\n",
    "    logger.warning(\"midaGAN not installed as a package, importing it from the local directory.\")\n",
    "    sys.path.append('../..')\n",
    "    import midaGAN\n",
    "\n",
    "from midaGAN.trainer import Trainer\n",
    "from midaGAN.conf.builders import build_training_conf\n",
    "from midaGAN.utils import communication, environment\n",
    "\n",
    "from omegaconf import OmegaConf\n",
    "from midaGAN.conf import init_config\n",
    "from midaGAN.data import build_dataset\n"
   ]
  },
  {
   "cell_type": "code",
   "execution_count": 4,
   "metadata": {},
   "outputs": [
    {
     "name": "stdout",
     "output_type": "stream",
     "text": [
      "batch_size: 1\n",
      "project_dir: ../../projects/maastro_cbct_to_ct\n",
      "seed: 0\n",
      "use_cuda: true\n",
      "mixed_precision: true\n",
      "opt_level: O1\n",
      "dataset:\n",
      "  name: CBCTtoCTDataset\n",
      "  root: /workspace/ibro/lung1_ct_cbct_nrrd_resampled/\n",
      "  shuffle: true\n",
      "  num_workers: 16\n",
      "  patch_size:\n",
      "  - 48\n",
      "  - 224\n",
      "  - 224\n",
      "  hounsfield_units_range:\n",
      "  - -1000\n",
      "  - 2000\n",
      "  focal_region_proportion: 0.2\n",
      "gan:\n",
      "  is_train: true\n",
      "  name: PiCycleGAN\n",
      "  loss_type: lsgan\n",
      "  norm_type: instance\n",
      "  weight_init_type: normal\n",
      "  weight_init_gain: 0.02\n",
      "  pool_size: 50\n",
      "generator:\n",
      "  name: Vnet3D\n",
      "  in_channels: 1\n",
      "  use_memory_saving: false\n",
      "  use_inverse: true\n",
      "  first_layer_channels: 16\n",
      "  down_blocks:\n",
      "  - 2\n",
      "  - 2\n",
      "  - 3\n",
      "  up_blocks:\n",
      "  - 3\n",
      "  - 3\n",
      "  - 3\n",
      "  is_separable: false\n",
      "n_iters: 20000\n",
      "n_iters_decay: 20000\n",
      "discriminator:\n",
      "  name: PatchGAN3D\n",
      "  in_channels: 1\n",
      "  ndf: 64\n",
      "  n_layers: 2\n",
      "optimizer:\n",
      "  beta1: 0.5\n",
      "  lr_D: 0.0002\n",
      "  lr_G: 0.0004\n",
      "  lambda_A: 25.0\n",
      "  lambda_B: 25.0\n",
      "  lambda_identity: 0.0\n",
      "  lambda_inverse: 0.0\n",
      "  proportion_ssim: 0.84\n",
      "  ssim_type: SSIM\n",
      "logging:\n",
      "  checkpoint_dir: checkpoints/cbcttoct_ex16\n",
      "  log_freq: 50\n",
      "  checkpoint_freq: 2000\n",
      "  tensorboard: false\n",
      "  wandb:\n",
      "    project: my-project\n",
      "    entity: null\n",
      "load_checkpoint: null\n",
      "\n"
     ]
    }
   ],
   "source": [
    "communication.init_distributed()  # inits distributed mode if ran with torch.distributed.launch\n",
    "\n",
    "conf = init_config(\"/workspace/data/midaGAN/projects/maastro_cbct_to_ct/experiments/loader_test.yaml\")\n",
    "print(conf.pretty())\n",
    "\n",
    "\n",
    "dataset = build_dataset(conf)\n"
   ]
  },
  {
   "cell_type": "code",
   "execution_count": 8,
   "metadata": {},
   "outputs": [
    {
     "name": "stdout",
     "output_type": "stream",
     "text": [
      "torch.Size([1, 48, 224, 224])\n",
      "torch.Size([1, 48, 224, 224])\n",
      "torch.Size([1, 48, 224, 224])\n",
      "torch.Size([1, 48, 224, 224])\n",
      "torch.Size([1, 48, 224, 224])\n",
      "torch.Size([1, 48, 224, 224])\n",
      "torch.Size([1, 48, 224, 224])\n",
      "torch.Size([1, 48, 224, 224])\n",
      "torch.Size([1, 48, 224, 224])\n",
      "torch.Size([1, 48, 224, 224])\n"
     ]
    }
   ],
   "source": [
    "for i, data in zip(range(5), dataset):\n",
    "    A = data['A']\n",
    "    print(A.shape)\n",
    "    B = data['B']\n",
    "    print(B.shape)\n",
    "    "
   ]
  },
  {
   "cell_type": "code",
   "execution_count": null,
   "metadata": {},
   "outputs": [],
   "source": []
  }
 ],
 "metadata": {
  "kernelspec": {
   "display_name": "Python 3",
   "language": "python",
   "name": "python3"
  },
  "language_info": {
   "codemirror_mode": {
    "name": "ipython",
    "version": 3
   },
   "file_extension": ".py",
   "mimetype": "text/x-python",
   "name": "python",
   "nbconvert_exporter": "python",
   "pygments_lexer": "ipython3",
   "version": "3.8.5"
  }
 },
 "nbformat": 4,
 "nbformat_minor": 2
}
